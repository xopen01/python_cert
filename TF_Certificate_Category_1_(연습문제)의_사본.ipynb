{
  "nbformat": 4,
  "nbformat_minor": 0,
  "metadata": {
    "colab": {
      "name": "TF Certificate Category 1 (연습문제)의 사본",
      "provenance": [],
      "collapsed_sections": [],
      "include_colab_link": true
    },
    "kernelspec": {
      "name": "python3",
      "display_name": "Python 3"
    }
  },
  "cells": [
    {
      "cell_type": "markdown",
      "metadata": {
        "id": "view-in-github",
        "colab_type": "text"
      },
      "source": [
        "<a href=\"https://colab.research.google.com/github/xopen01/python_cert/blob/master/TF_Certificate_Category_1_(%EC%97%B0%EC%8A%B5%EB%AC%B8%EC%A0%9C)%EC%9D%98_%EC%82%AC%EB%B3%B8.ipynb\" target=\"_parent\"><img src=\"https://colab.research.google.com/assets/colab-badge.svg\" alt=\"Open In Colab\"/></a>"
      ]
    },
    {
      "cell_type": "markdown",
      "metadata": {
        "id": "U1QUC0kCncNG"
      },
      "source": [
        "## 문제 1"
      ]
    },
    {
      "cell_type": "code",
      "metadata": {
        "id": "e_aAbpEZnaQk",
        "colab": {
          "base_uri": "https://localhost:8080/"
        },
        "outputId": "1f61c659-91d8-4027-b959-9df4b360da6e"
      },
      "source": [
        "import numpy as np\n",
        "# (1) import를 해주세요\n",
        "import tensorflow as tf\n",
        "from tensorflow.keras.layers import Dense\n",
        "from tensorflow.keras.models import Sequential\n",
        "\n",
        "def solution_model():\n",
        "    xs = np.array([-1.0, 0.0, 1.0, 2.0, 3.0, 4.0], dtype=float)\n",
        "    ys = np.array([5.0, 6.0, 7.0, 8.0, 9.0, 10.0], dtype=float)\n",
        "\n",
        "    # (2) 모델 정의 (Sequential)\n",
        "    model = Sequential([      # List 형태로 지정해야 한다 []\n",
        "            Dense(1, input_shape=[1]),\n",
        "    ])\n",
        "\n",
        "    # (3) 컴파일 (compile)\n",
        "    model.compile(optimizer='sgd', loss='mse')\n",
        "\n",
        "    # (4) 학습 (fit)\n",
        "\n",
        "    model.fit(xs, ys, epochs=1200, verbose=0)  \n",
        "    \n",
        "    print(model.predict([10.0])) # 실제 예측을 해 본다\n",
        "    return model\n",
        "\n",
        "\n",
        "# Note that you'll need to save your model as a .h5 like this\n",
        "# This .h5 will be uploaded to the testing infrastructure\n",
        "# and a score will be returned to you\n",
        "if __name__ == '__main__':\n",
        "    model = solution_model()\n",
        "    model.save(\"mymodel.h5\")\n"
      ],
      "execution_count": null,
      "outputs": [
        {
          "output_type": "stream",
          "text": [
            "[[16.000046]]\n"
          ],
          "name": "stdout"
        }
      ]
    },
    {
      "cell_type": "markdown",
      "metadata": {
        "id": "0OhZ9qn1XjIr"
      },
      "source": [
        ""
      ]
    }
  ]
}